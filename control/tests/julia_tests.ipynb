{
 "cells": [
  {
   "cell_type": "code",
   "execution_count": 58,
   "metadata": {},
   "outputs": [],
   "source": [
    "using ControlSystems\n",
    "using Plots\n",
    "\n",
    "s = tf(\"s\")\n",
    "simple_siso_tf = tf([1], [1, 1])\n",
    "tf_one = tf([1], [1])\n",
    "delay_siso_tf = 1 / (s + 1) * delay(1.5)\n",
    "delay_siso_tf2 = 3 / (2 * s + 5) * delay(0.5)\n",
    "print(\"\")"
   ]
  },
  {
   "cell_type": "markdown",
   "metadata": {},
   "source": [
    "### TestConstructors"
   ]
  },
  {
   "cell_type": "code",
   "execution_count": null,
   "metadata": {},
   "outputs": [],
   "source": [
    "# test_from_ss"
   ]
  },
  {
   "cell_type": "code",
   "execution_count": null,
   "metadata": {},
   "outputs": [
    {
     "data": {
      "text/plain": [
       "DelayLtiSystem{Int64, Float64}\n",
       "\n",
       "P: StateSpace{Continuous, Int64}\n",
       "D = \n",
       " 1\n",
       "\n",
       "Continuous-time state-space model\n",
       "\n",
       "Delays: Float64[]"
      ]
     },
     "metadata": {},
     "output_type": "display_data"
    }
   ],
   "source": [
    "# test_from_tf\n",
    "DelayLtiSystem(tf_one)"
   ]
  },
  {
   "cell_type": "markdown",
   "metadata": {},
   "source": [
    "### TestOperators"
   ]
  },
  {
   "cell_type": "code",
   "execution_count": null,
   "metadata": {},
   "outputs": [
    {
     "data": {
      "text/plain": [
       "DelayLtiSystem{Float64, Float64}\n",
       "\n",
       "P: StateSpace{Continuous, Float64}\n",
       "A = \n",
       " -1.0   0.0\n",
       "  0.0  -2.5\n",
       "B = \n",
       " 0.0  1.0  0.0\n",
       " 0.0  0.0  1.0\n",
       "C = \n",
       " 1.0  1.5\n",
       " 0.0  0.0\n",
       " 0.0  0.0\n",
       "D = \n",
       " 0.0  0.0  0.0\n",
       " 1.0  0.0  0.0\n",
       " 1.0  0.0  0.0\n",
       "\n",
       "Continuous-time state-space model\n",
       "\n",
       "Delays: [1.5, 0.5]"
      ]
     },
     "metadata": {},
     "output_type": "display_data"
    }
   ],
   "source": [
    "# test_add\n",
    "delay_siso_tf + delay_siso_tf2"
   ]
  },
  {
   "cell_type": "code",
   "execution_count": null,
   "metadata": {},
   "outputs": [
    {
     "data": {
      "text/plain": [
       "DelayLtiSystem{Float64, Float64}\n",
       "\n",
       "P: StateSpace{Continuous, Float64}\n",
       "A = \n",
       " -1.0\n",
       "B = \n",
       " 0.0  1.0\n",
       "C = \n",
       " 1.0\n",
       " 0.0\n",
       "D = \n",
       " 2.5  0.0\n",
       " 1.0  0.0\n",
       "\n",
       "Continuous-time state-space model\n",
       "\n",
       "Delays: [1.5]"
      ]
     },
     "metadata": {},
     "output_type": "display_data"
    }
   ],
   "source": [
    "# test_add_constant\n",
    "delay_siso_tf + 2.5"
   ]
  },
  {
   "cell_type": "code",
   "execution_count": null,
   "metadata": {},
   "outputs": [
    {
     "data": {
      "text/plain": [
       "DelayLtiSystem{Float64, Float64}\n",
       "\n",
       "P: StateSpace{Continuous, Float64}\n",
       "A = \n",
       " -1.0   0.0\n",
       "  0.0  -2.5\n",
       "B = \n",
       " 0.0  1.0  0.0\n",
       " 0.0  0.0  1.0\n",
       "C = \n",
       " 1.0  0.0\n",
       " 0.0  1.5\n",
       " 0.0  0.0\n",
       "D = \n",
       " 0.0  0.0  0.0\n",
       " 0.0  0.0  0.0\n",
       " 1.0  0.0  0.0\n",
       "\n",
       "Continuous-time state-space model\n",
       "\n",
       "Delays: [1.5, 0.5]"
      ]
     },
     "metadata": {},
     "output_type": "display_data"
    }
   ],
   "source": [
    "# test_mul\n",
    "delay_siso_tf * delay_siso_tf2"
   ]
  },
  {
   "cell_type": "code",
   "execution_count": 56,
   "metadata": {},
   "outputs": [
    {
     "data": {
      "text/plain": [
       "DelayLtiSystem{Float64, Float64}\n",
       "\n",
       "P: StateSpace{Continuous, Float64}\n",
       "A = \n",
       " -1.0\n",
       "B = \n",
       " 0.0  1.0\n",
       "C = \n",
       " 2.0\n",
       " 0.0\n",
       "D = \n",
       " 0.0  0.0\n",
       " 1.0  0.0\n",
       "\n",
       "Continuous-time state-space model\n",
       "\n",
       "Delays: [1.5]"
      ]
     },
     "metadata": {},
     "output_type": "display_data"
    }
   ],
   "source": [
    "# test_gain_mul\n",
    "2 * delay_siso_tf"
   ]
  },
  {
   "cell_type": "code",
   "execution_count": 59,
   "metadata": {},
   "outputs": [
    {
     "data": {
      "text/plain": [
       "DelayLtiSystem{Float64, Float64}\n",
       "\n",
       "P: StateSpace{Continuous, Float64}\n",
       "A = \n",
       " -1.0\n",
       "B = \n",
       " 0.0  1.0\n",
       "C = \n",
       " 1.0\n",
       " 0.0\n",
       "D = \n",
       " 0.0  0.0\n",
       " 1.0  0.0\n",
       "\n",
       "Continuous-time state-space model\n",
       "\n",
       "Delays: [0.5]"
      ]
     },
     "metadata": {},
     "output_type": "display_data"
    }
   ],
   "source": [
    "# test_tf_mul_delay\n",
    "simple_siso_tf * delay(0.5)"
   ]
  },
  {
   "cell_type": "markdown",
   "metadata": {},
   "source": [
    "### TestFeedback"
   ]
  },
  {
   "cell_type": "code",
   "execution_count": 61,
   "metadata": {},
   "outputs": [
    {
     "data": {
      "text/plain": [
       "DelayLtiSystem{Float64, Float64}\n",
       "\n",
       "P: StateSpace{Continuous, Float64}\n",
       "A = \n",
       " -1.0\n",
       "B = \n",
       " 0.0  1.0\n",
       "C = \n",
       "  1.0\n",
       " -1.0\n",
       "D = \n",
       " 0.0  0.0\n",
       " 1.0  0.0\n",
       "\n",
       "Continuous-time state-space model\n",
       "\n",
       "Delays: [1.5]"
      ]
     },
     "metadata": {},
     "output_type": "display_data"
    }
   ],
   "source": [
    "# test_feedback_one\n",
    "feedback(delay_siso_tf, 1)"
   ]
  },
  {
   "cell_type": "code",
   "execution_count": 62,
   "metadata": {},
   "outputs": [
    {
     "data": {
      "text/plain": [
       "DelayLtiSystem{Float64, Float64}\n",
       "\n",
       "P: StateSpace{Continuous, Float64}\n",
       "A = \n",
       " -1.0\n",
       "B = \n",
       " 0.0  1.0\n",
       "C = \n",
       "  1.0\n",
       " -1.0\n",
       "D = \n",
       " 0.0  0.0\n",
       " 1.0  0.0\n",
       "\n",
       "Continuous-time state-space model\n",
       "\n",
       "Delays: [1.5]"
      ]
     },
     "metadata": {},
     "output_type": "display_data"
    }
   ],
   "source": [
    "# test_feedback_tf_one\n",
    "feedback(delay_siso_tf, tf_one)"
   ]
  },
  {
   "cell_type": "code",
   "execution_count": 43,
   "metadata": {},
   "outputs": [
    {
     "data": {
      "text/plain": [
       "DelayLtiSystem{Float64, Float64}\n",
       "\n",
       "P: StateSpace{Continuous, Float64}\n",
       "A = \n",
       " -1.0\n",
       "B = \n",
       " 0.0  1.0\n",
       "C = \n",
       "  1.0\n",
       " -1.0\n",
       "D = \n",
       " 0.0  0.0\n",
       " 1.0  0.0\n",
       "\n",
       "Continuous-time state-space model\n",
       "\n",
       "Delays: [1.5]"
      ]
     },
     "metadata": {},
     "output_type": "display_data"
    }
   ],
   "source": [
    "tf_one = tf([1], [1])\n",
    "ss_one = ss(tf_one)\n",
    "\n",
    "GF = feedback(G, ss_one)    "
   ]
  },
  {
   "cell_type": "code",
   "execution_count": 3,
   "metadata": {},
   "outputs": [
    {
     "data": {
      "text/plain": [
       "DelayLtiSystem{Float64, Float64}\n",
       "\n",
       "P: StateSpace{Continuous, Float64}\n",
       "D = \n",
       " 0.0  1.0\n",
       " 1.0  0.0\n",
       "\n",
       "Continuous-time state-space model\n",
       "\n",
       "Delays: [2.5]"
      ]
     },
     "metadata": {},
     "output_type": "display_data"
    }
   ],
   "source": [
    "delay(2.5)"
   ]
  },
  {
   "cell_type": "code",
   "execution_count": 13,
   "metadata": {},
   "outputs": [
    {
     "data": {
      "text/plain": [
       "ControlSystemsBase.PartitionedStateSpace{Continuous, StateSpace{Continuous, Float64}}(StateSpace{Continuous, Float64}\n",
       "A = \n",
       " -1.0\n",
       "B = \n",
       " 0.0  1.0\n",
       "C = \n",
       " 1.0\n",
       " 0.0\n",
       "D = \n",
       " 0.0  0.0\n",
       " 1.0  0.0\n",
       "\n",
       "Continuous-time state-space model, 1, 1)"
      ]
     },
     "metadata": {},
     "output_type": "display_data"
    }
   ],
   "source": [
    "test = tf([1], [1, 1]) * delay(1)\n",
    "test.P"
   ]
  },
  {
   "cell_type": "code",
   "execution_count": 15,
   "metadata": {},
   "outputs": [
    {
     "data": {
      "text/plain": [
       "StateSpace{Continuous, Float64}\n",
       "A = \n",
       " -1.0\n",
       "B = \n",
       " 1.0\n",
       "C = \n",
       " 1.0\n",
       "D = \n",
       " 0.0\n",
       "\n",
       "Continuous-time state-space model"
      ]
     },
     "metadata": {},
     "output_type": "display_data"
    }
   ],
   "source": [
    "ss1 = ss(tf([1], [1, 1]))"
   ]
  },
  {
   "cell_type": "code",
   "execution_count": 26,
   "metadata": {},
   "outputs": [
    {
     "data": {
      "text/plain": [
       "DelayLtiSystem{Int64, Float64}\n",
       "\n",
       "P: StateSpace{Continuous, Int64}\n",
       "A = \n",
       " -1\n",
       "B = \n",
       " 1\n",
       "C = \n",
       " 1\n",
       "D = \n",
       " 0\n",
       "\n",
       "Continuous-time state-space model\n",
       "\n",
       "Delays: [2.0]"
      ]
     },
     "metadata": {},
     "output_type": "display_data"
    }
   ],
   "source": [
    "ss_ = ss([-1], [1], [1], [0])\n",
    "DelayLtiSystem(ss_, [2.])"
   ]
  },
  {
   "cell_type": "code",
   "execution_count": null,
   "metadata": {},
   "outputs": [],
   "source": []
  }
 ],
 "metadata": {
  "kernelspec": {
   "display_name": "Julia 1.11.3",
   "language": "julia",
   "name": "julia-1.11"
  },
  "language_info": {
   "file_extension": ".jl",
   "mimetype": "application/julia",
   "name": "julia",
   "version": "1.11.3"
  }
 },
 "nbformat": 4,
 "nbformat_minor": 2
}
