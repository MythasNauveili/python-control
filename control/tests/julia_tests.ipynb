{
 "cells": [
  {
   "cell_type": "markdown",
   "metadata": {},
   "source": [
    "# Julia tests\n",
    "\n",
    "This notebook is using ControlSystems.jl library to produce results about delay systems. Theses results are then compared to python-control new delays implementation, as a way to benchmark it. The notebook follows the test progression of the delay_lti_test.py file. \n",
    "\n",
    "In order to run this notebook, the user should install julia and the ControlSystems.jl library:\n",
    "-  https://julialang.org/downloads/ \n",
    "-  https://github.com/JuliaControl/ControlSystems.jl"
   ]
  },
  {
   "cell_type": "code",
   "execution_count": 97,
   "metadata": {},
   "outputs": [],
   "source": [
    "using ControlSystems\n",
    "using Plots\n",
    "\n",
    "s = tf(\"s\")\n",
    "simple_siso_tf = tf([1], [1, 1])\n",
    "tf_one = tf([1], [1])\n",
    "pure_delay = delay(1)\n",
    "delay_siso_tf = 1 / (s + 1) * delay(1.5)\n",
    "delay_siso_tf2 = 3 / (2 * s + 5) * delay(0.5)\n",
    "delay_tito_tf = [1/(s+1)*exp(-0.5*s) 1/(s+2)*exp(-s);  1/(s+3)*exp(-s)  1/(s+4)*exp(-s)]\n",
    "wood_berry = [12.8/(16.7s+1)*exp(-s) -18.9/(21s+1)*exp(-3s);  6.6/(10.9s+1)*exp(-7s)  -19.4/(14.4s+1)*exp(-3s)]\n",
    "\n",
    "print(\"\")"
   ]
  },
  {
   "cell_type": "markdown",
   "metadata": {},
   "source": [
    "### TestConstructors"
   ]
  },
  {
   "cell_type": "code",
   "execution_count": 98,
   "metadata": {},
   "outputs": [],
   "source": [
    "# test_from_ss"
   ]
  },
  {
   "cell_type": "code",
   "execution_count": 99,
   "metadata": {},
   "outputs": [
    {
     "data": {
      "text/plain": [
       "DelayLtiSystem{Int64, Float64}\n",
       "\n",
       "P: StateSpace{Continuous, Int64}\n",
       "D = \n",
       " 1\n",
       "\n",
       "Continuous-time state-space model\n",
       "\n",
       "Delays: Float64[]"
      ]
     },
     "metadata": {},
     "output_type": "display_data"
    }
   ],
   "source": [
    "# test_from_tf\n",
    "DelayLtiSystem(tf_one)"
   ]
  },
  {
   "cell_type": "code",
   "execution_count": 100,
   "metadata": {},
   "outputs": [
    {
     "data": {
      "text/plain": [
       "DelayLtiSystem{Float64, Float64}\n",
       "\n",
       "P: StateSpace{Continuous, Float64}\n",
       "A = \n",
       " -0.059880239520958084   0.0                    0.0                   0.0\n",
       "  0.0                   -0.047619047619047616   0.0                   0.0\n",
       "  0.0                    0.0                   -0.09174311926605504   0.0\n",
       "  0.0                    0.0                    0.0                  -0.06944444444444445\n",
       "B = \n",
       " 0.0  0.0  1.0  0.0  0.0  0.0\n",
       " 0.0  0.0  0.0  1.0  0.0  0.0\n",
       " 0.0  0.0  0.0  0.0  1.0  0.0\n",
       " 0.0  0.0  0.0  0.0  0.0  1.0\n",
       "C = \n",
       " 0.7664670658682635  -0.8999999999999999  0.0                  0.0\n",
       " 0.0                  0.0                 0.6055045871559632  -1.347222222222222\n",
       " 0.0                  0.0                 0.0                  0.0\n",
       " 0.0                  0.0                 0.0                  0.0\n",
       " 0.0                  0.0                 0.0                  0.0\n",
       " 0.0                  0.0                 0.0                  0.0\n",
       "D = \n",
       " 0.0  0.0  0.0  0.0  0.0  0.0\n",
       " 0.0  0.0  0.0  0.0  0.0  0.0\n",
       " 1.0  0.0  0.0  0.0  0.0  0.0\n",
       " 0.0  1.0  0.0  0.0  0.0  0.0\n",
       " 1.0  0.0  0.0  0.0  0.0  0.0\n",
       " 0.0  1.0  0.0  0.0  0.0  0.0\n",
       "\n",
       "Continuous-time state-space model\n",
       "\n",
       "Delays: [1.0, 3.0, 7.0, 3.0]"
      ]
     },
     "metadata": {},
     "output_type": "display_data"
    }
   ],
   "source": [
    "# test_wood_berry\n",
    "wood_berry"
   ]
  },
  {
   "cell_type": "markdown",
   "metadata": {},
   "source": [
    "### TestOperators"
   ]
  },
  {
   "cell_type": "code",
   "execution_count": 101,
   "metadata": {},
   "outputs": [
    {
     "data": {
      "text/plain": [
       "DelayLtiSystem{Float64, Float64}\n",
       "\n",
       "P: StateSpace{Continuous, Float64}\n",
       "A = \n",
       " -1.0   0.0\n",
       "  0.0  -2.5\n",
       "B = \n",
       " 0.0  1.0  0.0\n",
       " 0.0  0.0  1.0\n",
       "C = \n",
       " 1.0  1.5\n",
       " 0.0  0.0\n",
       " 0.0  0.0\n",
       "D = \n",
       " 0.0  0.0  0.0\n",
       " 1.0  0.0  0.0\n",
       " 1.0  0.0  0.0\n",
       "\n",
       "Continuous-time state-space model\n",
       "\n",
       "Delays: [1.5, 0.5]"
      ]
     },
     "metadata": {},
     "output_type": "display_data"
    }
   ],
   "source": [
    "# test_add\n",
    "delay_siso_tf + delay_siso_tf2"
   ]
  },
  {
   "cell_type": "code",
   "execution_count": 102,
   "metadata": {},
   "outputs": [
    {
     "data": {
      "text/plain": [
       "DelayLtiSystem{Float64, Float64}\n",
       "\n",
       "P: StateSpace{Continuous, Float64}\n",
       "A = \n",
       " -1.0\n",
       "B = \n",
       " 0.0  1.0\n",
       "C = \n",
       " 1.0\n",
       " 0.0\n",
       "D = \n",
       " 2.5  0.0\n",
       " 1.0  0.0\n",
       "\n",
       "Continuous-time state-space model\n",
       "\n",
       "Delays: [1.5]"
      ]
     },
     "metadata": {},
     "output_type": "display_data"
    }
   ],
   "source": [
    "# test_add_constant\n",
    "delay_siso_tf + 2.5"
   ]
  },
  {
   "cell_type": "code",
   "execution_count": 103,
   "metadata": {},
   "outputs": [
    {
     "data": {
      "text/plain": [
       "DelayLtiSystem{Float64, Float64}\n",
       "\n",
       "P: StateSpace{Continuous, Float64}\n",
       "A = \n",
       " -1.0   0.0\n",
       "  0.0  -2.5\n",
       "B = \n",
       " 0.0  1.0  0.0\n",
       " 0.0  0.0  1.0\n",
       "C = \n",
       " 1.0  0.0\n",
       " 0.0  1.5\n",
       " 0.0  0.0\n",
       "D = \n",
       " 0.0  0.0  0.0\n",
       " 0.0  0.0  0.0\n",
       " 1.0  0.0  0.0\n",
       "\n",
       "Continuous-time state-space model\n",
       "\n",
       "Delays: [1.5, 0.5]"
      ]
     },
     "metadata": {},
     "output_type": "display_data"
    }
   ],
   "source": [
    "# test_mul\n",
    "delay_siso_tf * delay_siso_tf2"
   ]
  },
  {
   "cell_type": "code",
   "execution_count": 104,
   "metadata": {},
   "outputs": [
    {
     "data": {
      "text/plain": [
       "DelayLtiSystem{Float64, Float64}\n",
       "\n",
       "P: StateSpace{Continuous, Float64}\n",
       "A = \n",
       " -1.0\n",
       "B = \n",
       " 0.0  1.0\n",
       "C = \n",
       " 2.0\n",
       " 0.0\n",
       "D = \n",
       " 0.0  0.0\n",
       " 1.0  0.0\n",
       "\n",
       "Continuous-time state-space model\n",
       "\n",
       "Delays: [1.5]"
      ]
     },
     "metadata": {},
     "output_type": "display_data"
    }
   ],
   "source": [
    "# test_gain_mul\n",
    "2 * delay_siso_tf"
   ]
  },
  {
   "cell_type": "code",
   "execution_count": 105,
   "metadata": {},
   "outputs": [
    {
     "data": {
      "text/plain": [
       "DelayLtiSystem{Float64, Float64}\n",
       "\n",
       "P: StateSpace{Continuous, Float64}\n",
       "A = \n",
       " -1.0\n",
       "B = \n",
       " 0.0  1.0\n",
       "C = \n",
       " 1.0\n",
       " 0.0\n",
       "D = \n",
       " 0.0  0.0\n",
       " 1.0  0.0\n",
       "\n",
       "Continuous-time state-space model\n",
       "\n",
       "Delays: [0.5]"
      ]
     },
     "metadata": {},
     "output_type": "display_data"
    }
   ],
   "source": [
    "# test_tf_mul_delay\n",
    "simple_siso_tf * delay(0.5)"
   ]
  },
  {
   "cell_type": "markdown",
   "metadata": {},
   "source": [
    "### TestFeedback"
   ]
  },
  {
   "cell_type": "code",
   "execution_count": 106,
   "metadata": {},
   "outputs": [
    {
     "data": {
      "text/plain": [
       "DelayLtiSystem{Float64, Float64}\n",
       "\n",
       "P: StateSpace{Continuous, Float64}\n",
       "A = \n",
       " -1.0\n",
       "B = \n",
       " 0.0  1.0\n",
       "C = \n",
       "  1.0\n",
       " -1.0\n",
       "D = \n",
       " 0.0  0.0\n",
       " 1.0  0.0\n",
       "\n",
       "Continuous-time state-space model\n",
       "\n",
       "Delays: [1.5]"
      ]
     },
     "metadata": {},
     "output_type": "display_data"
    }
   ],
   "source": [
    "# test_feedback_one\n",
    "feedback(delay_siso_tf, 1)"
   ]
  },
  {
   "cell_type": "code",
   "execution_count": 107,
   "metadata": {},
   "outputs": [
    {
     "data": {
      "text/plain": [
       "DelayLtiSystem{Float64, Float64}\n",
       "\n",
       "P: StateSpace{Continuous, Float64}\n",
       "A = \n",
       " -1.0\n",
       "B = \n",
       " 0.0  1.0\n",
       "C = \n",
       "  1.0\n",
       " -1.0\n",
       "D = \n",
       " 0.0  0.0\n",
       " 1.0  0.0\n",
       "\n",
       "Continuous-time state-space model\n",
       "\n",
       "Delays: [1.5]"
      ]
     },
     "metadata": {},
     "output_type": "display_data"
    }
   ],
   "source": [
    "# test_feedback_tf_one\n",
    "feedback(delay_siso_tf, tf_one)"
   ]
  },
  {
   "cell_type": "code",
   "execution_count": 108,
   "metadata": {},
   "outputs": [
    {
     "data": {
      "text/plain": [
       "DelayLtiSystem{Float64, Float64}\n",
       "\n",
       "P: StateSpace{Continuous, Float64}\n",
       "A = \n",
       " -1.0   0.0\n",
       "  0.0  -1.0\n",
       "B = \n",
       " 0.0  1.0  0.0\n",
       " 0.0  0.0  1.0\n",
       "C = \n",
       " 1.0   0.0\n",
       " 0.0  -1.0\n",
       " 1.0   0.0\n",
       "D = \n",
       " 0.0  0.0  0.0\n",
       " 1.0  0.0  0.0\n",
       " 0.0  0.0  0.0\n",
       "\n",
       "Continuous-time state-space model\n",
       "\n",
       "Delays: [1.5, 1.5]"
      ]
     },
     "metadata": {},
     "output_type": "display_data"
    }
   ],
   "source": [
    "# test_complext_feedback\n",
    "feedback(delay_siso_tf, delay_siso_tf)"
   ]
  },
  {
   "cell_type": "markdown",
   "metadata": {},
   "source": [
    "### TestPureDelay"
   ]
  },
  {
   "cell_type": "code",
   "execution_count": 109,
   "metadata": {},
   "outputs": [
    {
     "data": {
      "text/plain": [
       "DelayLtiSystem{Float64, Float64}\n",
       "\n",
       "P: StateSpace{Continuous, Float64}\n",
       "D = \n",
       " 0.0  1.0\n",
       " 1.0  0.0\n",
       "\n",
       "Continuous-time state-space model\n",
       "\n",
       "Delays: [1.0]"
      ]
     },
     "metadata": {},
     "output_type": "display_data"
    }
   ],
   "source": [
    "# test_unit_delay\n",
    "pure_delay"
   ]
  },
  {
   "cell_type": "code",
   "execution_count": 110,
   "metadata": {},
   "outputs": [
    {
     "data": {
      "text/plain": [
       "DelayLtiSystem{Float64, Float64}\n",
       "\n",
       "P: StateSpace{Continuous, Float64}\n",
       "D = \n",
       " 0.0  1.0\n",
       " 1.0  0.0\n",
       "\n",
       "Continuous-time state-space model\n",
       "\n",
       "Delays: [2.0]"
      ]
     },
     "metadata": {},
     "output_type": "display_data"
    }
   ],
   "source": [
    "# test_exp_delay\n",
    "exp(-2*s)"
   ]
  },
  {
   "cell_type": "code",
   "execution_count": 111,
   "metadata": {},
   "outputs": [
    {
     "data": {
      "text/plain": [
       "DelayLtiSystem{Float64, Float64}\n",
       "\n",
       "P: StateSpace{Continuous, Float64}\n",
       "A = \n",
       " -1.0\n",
       "B = \n",
       " 0.0  1.0\n",
       "C = \n",
       "  1.0\n",
       " -1.0\n",
       "D = \n",
       " 0.0  0.0\n",
       " 1.0  0.0\n",
       "\n",
       "Continuous-time state-space model\n",
       "\n",
       "Delays: [1.5]"
      ]
     },
     "metadata": {},
     "output_type": "display_data"
    }
   ],
   "source": [
    "tf_one = tf([1], [1])\n",
    "ss_one = ss(tf_one)\n",
    "\n",
    "GF = feedback(G, ss_one)    "
   ]
  },
  {
   "cell_type": "code",
   "execution_count": 112,
   "metadata": {},
   "outputs": [
    {
     "data": {
      "text/plain": [
       "DelayLtiSystem{Float64, Float64}\n",
       "\n",
       "P: StateSpace{Continuous, Float64}\n",
       "D = \n",
       " 0.0  1.0\n",
       " 1.0  0.0\n",
       "\n",
       "Continuous-time state-space model\n",
       "\n",
       "Delays: [2.5]"
      ]
     },
     "metadata": {},
     "output_type": "display_data"
    }
   ],
   "source": [
    "delay(2.5)"
   ]
  },
  {
   "cell_type": "code",
   "execution_count": 113,
   "metadata": {},
   "outputs": [
    {
     "data": {
      "text/plain": [
       "ControlSystemsBase.PartitionedStateSpace{Continuous, StateSpace{Continuous, Float64}}(StateSpace{Continuous, Float64}\n",
       "A = \n",
       " -1.0\n",
       "B = \n",
       " 0.0  1.0\n",
       "C = \n",
       " 1.0\n",
       " 0.0\n",
       "D = \n",
       " 0.0  0.0\n",
       " 1.0  0.0\n",
       "\n",
       "Continuous-time state-space model, 1, 1)"
      ]
     },
     "metadata": {},
     "output_type": "display_data"
    }
   ],
   "source": [
    "test = tf([1], [1, 1]) * delay(1)\n",
    "test.P"
   ]
  },
  {
   "cell_type": "code",
   "execution_count": 114,
   "metadata": {},
   "outputs": [
    {
     "data": {
      "text/plain": [
       "StateSpace{Continuous, Float64}\n",
       "A = \n",
       " -1.0\n",
       "B = \n",
       " 1.0\n",
       "C = \n",
       " 1.0\n",
       "D = \n",
       " 0.0\n",
       "\n",
       "Continuous-time state-space model"
      ]
     },
     "metadata": {},
     "output_type": "display_data"
    }
   ],
   "source": [
    "ss1 = ss(tf([1], [1, 1]))"
   ]
  },
  {
   "cell_type": "code",
   "execution_count": 115,
   "metadata": {},
   "outputs": [
    {
     "data": {
      "text/plain": [
       "DelayLtiSystem{Int64, Float64}\n",
       "\n",
       "P: StateSpace{Continuous, Int64}\n",
       "A = \n",
       " -1\n",
       "B = \n",
       " 1\n",
       "C = \n",
       " 1\n",
       "D = \n",
       " 0\n",
       "\n",
       "Continuous-time state-space model\n",
       "\n",
       "Delays: [2.0]"
      ]
     },
     "metadata": {},
     "output_type": "display_data"
    }
   ],
   "source": [
    "ss_ = ss([-1], [1], [1], [0])\n",
    "DelayLtiSystem(ss_, [2.])"
   ]
  },
  {
   "cell_type": "markdown",
   "metadata": {},
   "source": [
    "### TestFreqResp"
   ]
  },
  {
   "cell_type": "code",
   "execution_count": 116,
   "metadata": {},
   "outputs": [
    {
     "data": {
      "text/plain": [
       "1×1×10 Array{ComplexF64, 3}:\n",
       "[:, :, 1] =\n",
       " 0.9996375439798979 - 0.024995812946127068im\n",
       "\n",
       "[:, :, 2] =\n",
       " 0.9971959288676081 - 0.06947384247065888im\n",
       "\n",
       "[:, :, 3] =\n",
       " 0.9784258086709292 - 0.1916345960427577im\n",
       "\n",
       "[:, :, 4] =\n",
       " 0.8407906760670428 - 0.4987123630856im\n",
       "\n",
       "[:, :, 5] =\n",
       " 0.11248651027122411 - 0.8502796738335039im\n",
       "\n",
       "[:, :, 6] =\n",
       " -0.47530358539375506 + 0.19610650928623855im\n",
       "\n",
       "[:, :, 7] =\n",
       " -0.09481872294498477 - 0.18805963874096887im\n",
       "\n",
       "[:, :, 8] =\n",
       " -0.033328025868165176 - 0.06963017462205673im\n",
       "\n",
       "[:, :, 9] =\n",
       " 0.01265424121150209 + 0.02476963547555173im\n",
       "\n",
       "[:, :, 10] =\n",
       " 0.007217967580181465 - 0.006920328388981937im"
      ]
     },
     "metadata": {},
     "output_type": "display_data"
    }
   ],
   "source": [
    "# test_siso_freq_resp\n",
    "w = exp10.(LinRange(-2,2,10))\n",
    "freqresp(delay_siso_tf, w)"
   ]
  }
 ],
 "metadata": {
  "kernelspec": {
   "display_name": "Julia 1.11.3",
   "language": "julia",
   "name": "julia-1.11"
  },
  "language_info": {
   "file_extension": ".jl",
   "mimetype": "application/julia",
   "name": "julia",
   "version": "1.11.3"
  }
 },
 "nbformat": 4,
 "nbformat_minor": 2
}
